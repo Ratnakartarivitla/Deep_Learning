{
  "nbformat": 4,
  "nbformat_minor": 0,
  "metadata": {
    "colab": {
      "provenance": [],
      "mount_file_id": "13d_x6YS_d8vVXAPnL-DI-oBFqDBq9S5K",
      "authorship_tag": "ABX9TyNEqSuC8LfHpt4J4FNtBJzi",
      "include_colab_link": true
    },
    "kernelspec": {
      "name": "python3",
      "display_name": "Python 3"
    },
    "language_info": {
      "name": "python"
    },
    "accelerator": "GPU",
    "gpuClass": "standard"
  },
  "cells": [
    {
      "cell_type": "markdown",
      "metadata": {
        "id": "view-in-github",
        "colab_type": "text"
      },
      "source": [
        "<a href=\"https://colab.research.google.com/github/Ratnakartarivitla/Deep_Learning/blob/main/Corona_cnn.ipynb\" target=\"_parent\"><img src=\"https://colab.research.google.com/assets/colab-badge.svg\" alt=\"Open In Colab\"/></a>"
      ]
    },
    {
      "cell_type": "code",
      "execution_count": 1,
      "metadata": {
        "id": "w2IE1RGGzf_8"
      },
      "outputs": [],
      "source": [
        "import numpy as np\n",
        "import matplotlib.pyplot as plt\n",
        "\n",
        "import keras\n",
        "from keras.layers import Dense, Conv2D, MaxPool2D, Dropout, Flatten\n",
        "from keras.models import Sequential\n",
        "from keras.preprocessing import image"
      ]
    },
    {
      "cell_type": "code",
      "source": [
        "train_datagen = image.ImageDataGenerator(\n",
        "    rescale = 1/255, horizontal_flip = True, zoom_range=0.2, shear_range=0.2\n",
        ")\n",
        "\n",
        "train_data = train_datagen.flow_from_directory(directory='/content/drive/MyDrive/Datasets/train', target_size=(256,256), batch_size=16,\n",
        "                                               class_mode = 'binary')"
      ],
      "metadata": {
        "colab": {
          "base_uri": "https://localhost:8080/"
        },
        "id": "tfKImXAJ1DIV",
        "outputId": "18de4a7f-a024-4036-f61d-7786bfacdcc6"
      },
      "execution_count": 2,
      "outputs": [
        {
          "output_type": "stream",
          "name": "stdout",
          "text": [
            "Found 242 images belonging to 2 classes.\n"
          ]
        }
      ]
    },
    {
      "cell_type": "code",
      "source": [
        "train_data.class_indices"
      ],
      "metadata": {
        "id": "z7NIML0o3lSQ",
        "colab": {
          "base_uri": "https://localhost:8080/"
        },
        "outputId": "f0a8bf01-6596-4a60-b24c-53d9b6ad3443"
      },
      "execution_count": 3,
      "outputs": [
        {
          "output_type": "execute_result",
          "data": {
            "text/plain": [
              "{'covid': 0, 'normal': 1}"
            ]
          },
          "metadata": {},
          "execution_count": 3
        }
      ]
    },
    {
      "cell_type": "code",
      "source": [
        "test_datagen = image.ImageDataGenerator(\n",
        "    rescale = 1/255\n",
        ")\n",
        "\n",
        "test_data = test_datagen.flow_from_directory(directory='/content/drive/MyDrive/Datasets/val', target_size=(256,256), batch_size=16,\n",
        "                                               class_mode = 'binary')"
      ],
      "metadata": {
        "colab": {
          "base_uri": "https://localhost:8080/"
        },
        "id": "aUBYODyl5cZO",
        "outputId": "5fed1c7a-e358-4c21-d50e-8b00509e043c"
      },
      "execution_count": 4,
      "outputs": [
        {
          "output_type": "stream",
          "name": "stdout",
          "text": [
            "Found 60 images belonging to 2 classes.\n"
          ]
        }
      ]
    },
    {
      "cell_type": "code",
      "source": [
        "model = Sequential()\n",
        "\n",
        "model.add(Conv2D(filters= 32, kernel_size=(3,3), activation='relu', input_shape = (256,256,3)))\n",
        "\n",
        "\n",
        "model.add(Conv2D(filters= 64, kernel_size=(3,3), activation='relu'))\n",
        "model.add(MaxPool2D())\n",
        "model.add(Dropout(rate=0.25))\n",
        "\n",
        "model.add(Conv2D(filters= 64, kernel_size=(3,3), activation='relu'))\n",
        "model.add(MaxPool2D())\n",
        "model.add(Dropout(rate=0.25))\n",
        "\n",
        "model.add(Conv2D(filters= 128, kernel_size=(3,3), activation='relu'))\n",
        "model.add(MaxPool2D())\n",
        "model.add(Dropout(rate=0.25))\n",
        "\n",
        "model.add(Flatten())\n",
        "model.add(Dense(units=64, activation='relu'))\n",
        "model.add(Dropout(rate=0.50))\n",
        "model.add(Dense(units=1, activation='sigmoid'))\n",
        "\n",
        "model.compile(loss=keras.losses.binary_crossentropy, optimizer='adam', metrics=['acc'])\n"
      ],
      "metadata": {
        "id": "UN4uFhjT5qNH"
      },
      "execution_count": 5,
      "outputs": []
    },
    {
      "cell_type": "code",
      "source": [
        "model.summary()"
      ],
      "metadata": {
        "colab": {
          "base_uri": "https://localhost:8080/"
        },
        "id": "U_eTPokK7QP0",
        "outputId": "fe4aa447-bdae-4370-9ce0-15e15718650b"
      },
      "execution_count": 6,
      "outputs": [
        {
          "output_type": "stream",
          "name": "stdout",
          "text": [
            "Model: \"sequential\"\n",
            "_________________________________________________________________\n",
            " Layer (type)                Output Shape              Param #   \n",
            "=================================================================\n",
            " conv2d (Conv2D)             (None, 254, 254, 32)      896       \n",
            "                                                                 \n",
            " conv2d_1 (Conv2D)           (None, 252, 252, 64)      18496     \n",
            "                                                                 \n",
            " max_pooling2d (MaxPooling2D  (None, 126, 126, 64)     0         \n",
            " )                                                               \n",
            "                                                                 \n",
            " dropout (Dropout)           (None, 126, 126, 64)      0         \n",
            "                                                                 \n",
            " conv2d_2 (Conv2D)           (None, 124, 124, 64)      36928     \n",
            "                                                                 \n",
            " max_pooling2d_1 (MaxPooling  (None, 62, 62, 64)       0         \n",
            " 2D)                                                             \n",
            "                                                                 \n",
            " dropout_1 (Dropout)         (None, 62, 62, 64)        0         \n",
            "                                                                 \n",
            " conv2d_3 (Conv2D)           (None, 60, 60, 128)       73856     \n",
            "                                                                 \n",
            " max_pooling2d_2 (MaxPooling  (None, 30, 30, 128)      0         \n",
            " 2D)                                                             \n",
            "                                                                 \n",
            " dropout_2 (Dropout)         (None, 30, 30, 128)       0         \n",
            "                                                                 \n",
            " flatten (Flatten)           (None, 115200)            0         \n",
            "                                                                 \n",
            " dense (Dense)               (None, 64)                7372864   \n",
            "                                                                 \n",
            " dropout_3 (Dropout)         (None, 64)                0         \n",
            "                                                                 \n",
            " dense_1 (Dense)             (None, 1)                 65        \n",
            "                                                                 \n",
            "=================================================================\n",
            "Total params: 7,503,105\n",
            "Trainable params: 7,503,105\n",
            "Non-trainable params: 0\n",
            "_________________________________________________________________\n"
          ]
        }
      ]
    },
    {
      "cell_type": "code",
      "source": [
        "model.fit_generator(train_data, steps_per_epoch=8, epochs = 10, validation_steps = 2,\n",
        "                    validation_data = test_data\n",
        "                    )"
      ],
      "metadata": {
        "colab": {
          "base_uri": "https://localhost:8080/"
        },
        "id": "SYrcF7-g76K2",
        "outputId": "de864de3-310e-46db-a62b-42f67be6ea85"
      },
      "execution_count": 7,
      "outputs": [
        {
          "output_type": "stream",
          "name": "stderr",
          "text": [
            "<ipython-input-7-6ffe26eedc6f>:1: UserWarning: `Model.fit_generator` is deprecated and will be removed in a future version. Please use `Model.fit`, which supports generators.\n",
            "  model.fit_generator(train_data, steps_per_epoch=8, epochs = 10, validation_steps = 2,\n"
          ]
        },
        {
          "output_type": "stream",
          "name": "stdout",
          "text": [
            "Epoch 1/10\n",
            "8/8 [==============================] - 87s 9s/step - loss: 2.9320 - acc: 0.5469 - val_loss: 0.6963 - val_acc: 0.4688\n",
            "Epoch 2/10\n",
            "8/8 [==============================] - 34s 4s/step - loss: 0.6420 - acc: 0.6016 - val_loss: 0.6531 - val_acc: 0.9062\n",
            "Epoch 3/10\n",
            "8/8 [==============================] - 17s 2s/step - loss: 0.5728 - acc: 0.7578 - val_loss: 0.5689 - val_acc: 0.9375\n",
            "Epoch 4/10\n",
            "8/8 [==============================] - 10s 1s/step - loss: 0.4847 - acc: 0.7719 - val_loss: 0.5387 - val_acc: 0.6562\n",
            "Epoch 5/10\n",
            "8/8 [==============================] - 10s 1s/step - loss: 0.6712 - acc: 0.6641 - val_loss: 0.6430 - val_acc: 0.9375\n",
            "Epoch 6/10\n",
            "8/8 [==============================] - 9s 1s/step - loss: 0.4551 - acc: 0.8359 - val_loss: 0.4055 - val_acc: 0.8750\n",
            "Epoch 7/10\n",
            "8/8 [==============================] - 7s 901ms/step - loss: 0.3252 - acc: 0.8684 - val_loss: 0.3019 - val_acc: 0.9062\n",
            "Epoch 8/10\n",
            "8/8 [==============================] - 8s 1s/step - loss: 0.3854 - acc: 0.8359 - val_loss: 0.3842 - val_acc: 0.9375\n",
            "Epoch 9/10\n",
            "8/8 [==============================] - 7s 803ms/step - loss: 0.3908 - acc: 0.8684 - val_loss: 0.3163 - val_acc: 0.9375\n",
            "Epoch 10/10\n",
            "8/8 [==============================] - 9s 1s/step - loss: 0.4158 - acc: 0.7969 - val_loss: 0.3726 - val_acc: 0.9062\n"
          ]
        },
        {
          "output_type": "execute_result",
          "data": {
            "text/plain": [
              "<keras.callbacks.History at 0x7f6574200670>"
            ]
          },
          "metadata": {},
          "execution_count": 7
        }
      ]
    },
    {
      "cell_type": "code",
      "source": [],
      "metadata": {
        "id": "2jo3quXp8XHv"
      },
      "execution_count": null,
      "outputs": []
    }
  ]
}